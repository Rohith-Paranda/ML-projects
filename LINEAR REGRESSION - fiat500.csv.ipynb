{
 "cells": [
  {
   "cell_type": "code",
   "execution_count": 1,
   "id": "cac27d9d",
   "metadata": {},
   "outputs": [],
   "source": [
    "import numpy as np\n",
    "import pandas as pd\n",
    "df=pd.read_csv(\"fiat500.csv\")"
   ]
  },
  {
   "cell_type": "code",
   "execution_count": 2,
   "id": "7b57f60b",
   "metadata": {},
   "outputs": [
    {
     "data": {
      "text/html": [
       "<div>\n",
       "<style scoped>\n",
       "    .dataframe tbody tr th:only-of-type {\n",
       "        vertical-align: middle;\n",
       "    }\n",
       "\n",
       "    .dataframe tbody tr th {\n",
       "        vertical-align: top;\n",
       "    }\n",
       "\n",
       "    .dataframe thead th {\n",
       "        text-align: right;\n",
       "    }\n",
       "</style>\n",
       "<table border=\"1\" class=\"dataframe\">\n",
       "  <thead>\n",
       "    <tr style=\"text-align: right;\">\n",
       "      <th></th>\n",
       "      <th>ID</th>\n",
       "      <th>model</th>\n",
       "      <th>engine_power</th>\n",
       "      <th>age_in_days</th>\n",
       "      <th>km</th>\n",
       "      <th>previous_owners</th>\n",
       "      <th>lat</th>\n",
       "      <th>lon</th>\n",
       "      <th>price</th>\n",
       "    </tr>\n",
       "  </thead>\n",
       "  <tbody>\n",
       "    <tr>\n",
       "      <th>count</th>\n",
       "      <td>1537.000000</td>\n",
       "      <td>1538</td>\n",
       "      <td>1538.000000</td>\n",
       "      <td>1538.000000</td>\n",
       "      <td>1538.000000</td>\n",
       "      <td>1538.000000</td>\n",
       "      <td>1538.000000</td>\n",
       "      <td>1538.000000</td>\n",
       "      <td>1538.000000</td>\n",
       "    </tr>\n",
       "    <tr>\n",
       "      <th>unique</th>\n",
       "      <td>NaN</td>\n",
       "      <td>3</td>\n",
       "      <td>NaN</td>\n",
       "      <td>NaN</td>\n",
       "      <td>NaN</td>\n",
       "      <td>NaN</td>\n",
       "      <td>NaN</td>\n",
       "      <td>NaN</td>\n",
       "      <td>NaN</td>\n",
       "    </tr>\n",
       "    <tr>\n",
       "      <th>top</th>\n",
       "      <td>NaN</td>\n",
       "      <td>lounge</td>\n",
       "      <td>NaN</td>\n",
       "      <td>NaN</td>\n",
       "      <td>NaN</td>\n",
       "      <td>NaN</td>\n",
       "      <td>NaN</td>\n",
       "      <td>NaN</td>\n",
       "      <td>NaN</td>\n",
       "    </tr>\n",
       "    <tr>\n",
       "      <th>freq</th>\n",
       "      <td>NaN</td>\n",
       "      <td>1094</td>\n",
       "      <td>NaN</td>\n",
       "      <td>NaN</td>\n",
       "      <td>NaN</td>\n",
       "      <td>NaN</td>\n",
       "      <td>NaN</td>\n",
       "      <td>NaN</td>\n",
       "      <td>NaN</td>\n",
       "    </tr>\n",
       "    <tr>\n",
       "      <th>mean</th>\n",
       "      <td>770.000000</td>\n",
       "      <td>NaN</td>\n",
       "      <td>51.904421</td>\n",
       "      <td>1650.980494</td>\n",
       "      <td>53396.011704</td>\n",
       "      <td>1.123537</td>\n",
       "      <td>43.541361</td>\n",
       "      <td>11.563428</td>\n",
       "      <td>8576.003901</td>\n",
       "    </tr>\n",
       "    <tr>\n",
       "      <th>std</th>\n",
       "      <td>443.837996</td>\n",
       "      <td>NaN</td>\n",
       "      <td>3.988023</td>\n",
       "      <td>1289.522278</td>\n",
       "      <td>40046.830723</td>\n",
       "      <td>0.416423</td>\n",
       "      <td>2.133518</td>\n",
       "      <td>2.328190</td>\n",
       "      <td>1939.958641</td>\n",
       "    </tr>\n",
       "    <tr>\n",
       "      <th>min</th>\n",
       "      <td>2.000000</td>\n",
       "      <td>NaN</td>\n",
       "      <td>51.000000</td>\n",
       "      <td>366.000000</td>\n",
       "      <td>1232.000000</td>\n",
       "      <td>1.000000</td>\n",
       "      <td>36.855839</td>\n",
       "      <td>7.245400</td>\n",
       "      <td>2500.000000</td>\n",
       "    </tr>\n",
       "    <tr>\n",
       "      <th>25%</th>\n",
       "      <td>386.000000</td>\n",
       "      <td>NaN</td>\n",
       "      <td>51.000000</td>\n",
       "      <td>670.000000</td>\n",
       "      <td>20006.250000</td>\n",
       "      <td>1.000000</td>\n",
       "      <td>41.802990</td>\n",
       "      <td>9.505090</td>\n",
       "      <td>7122.500000</td>\n",
       "    </tr>\n",
       "    <tr>\n",
       "      <th>50%</th>\n",
       "      <td>770.000000</td>\n",
       "      <td>NaN</td>\n",
       "      <td>51.000000</td>\n",
       "      <td>1035.000000</td>\n",
       "      <td>39031.000000</td>\n",
       "      <td>1.000000</td>\n",
       "      <td>44.394096</td>\n",
       "      <td>11.869260</td>\n",
       "      <td>9000.000000</td>\n",
       "    </tr>\n",
       "    <tr>\n",
       "      <th>75%</th>\n",
       "      <td>1154.000000</td>\n",
       "      <td>NaN</td>\n",
       "      <td>51.000000</td>\n",
       "      <td>2616.000000</td>\n",
       "      <td>79667.750000</td>\n",
       "      <td>1.000000</td>\n",
       "      <td>45.467960</td>\n",
       "      <td>12.769040</td>\n",
       "      <td>10000.000000</td>\n",
       "    </tr>\n",
       "    <tr>\n",
       "      <th>max</th>\n",
       "      <td>1538.000000</td>\n",
       "      <td>NaN</td>\n",
       "      <td>77.000000</td>\n",
       "      <td>4658.000000</td>\n",
       "      <td>235000.000000</td>\n",
       "      <td>4.000000</td>\n",
       "      <td>46.795612</td>\n",
       "      <td>18.365520</td>\n",
       "      <td>11100.000000</td>\n",
       "    </tr>\n",
       "  </tbody>\n",
       "</table>\n",
       "</div>"
      ],
      "text/plain": [
       "                 ID   model  engine_power  age_in_days             km  \\\n",
       "count   1537.000000    1538   1538.000000  1538.000000    1538.000000   \n",
       "unique          NaN       3           NaN          NaN            NaN   \n",
       "top             NaN  lounge           NaN          NaN            NaN   \n",
       "freq            NaN    1094           NaN          NaN            NaN   \n",
       "mean     770.000000     NaN     51.904421  1650.980494   53396.011704   \n",
       "std      443.837996     NaN      3.988023  1289.522278   40046.830723   \n",
       "min        2.000000     NaN     51.000000   366.000000    1232.000000   \n",
       "25%      386.000000     NaN     51.000000   670.000000   20006.250000   \n",
       "50%      770.000000     NaN     51.000000  1035.000000   39031.000000   \n",
       "75%     1154.000000     NaN     51.000000  2616.000000   79667.750000   \n",
       "max     1538.000000     NaN     77.000000  4658.000000  235000.000000   \n",
       "\n",
       "        previous_owners          lat          lon         price  \n",
       "count       1538.000000  1538.000000  1538.000000   1538.000000  \n",
       "unique              NaN          NaN          NaN           NaN  \n",
       "top                 NaN          NaN          NaN           NaN  \n",
       "freq                NaN          NaN          NaN           NaN  \n",
       "mean           1.123537    43.541361    11.563428   8576.003901  \n",
       "std            0.416423     2.133518     2.328190   1939.958641  \n",
       "min            1.000000    36.855839     7.245400   2500.000000  \n",
       "25%            1.000000    41.802990     9.505090   7122.500000  \n",
       "50%            1.000000    44.394096    11.869260   9000.000000  \n",
       "75%            1.000000    45.467960    12.769040  10000.000000  \n",
       "max            4.000000    46.795612    18.365520  11100.000000  "
      ]
     },
     "execution_count": 2,
     "metadata": {},
     "output_type": "execute_result"
    }
   ],
   "source": [
    "df.describe(include='all')"
   ]
  },
  {
   "cell_type": "code",
   "execution_count": 3,
   "id": "9a2f11d1",
   "metadata": {},
   "outputs": [
    {
     "name": "stdout",
     "output_type": "stream",
     "text": [
      "<class 'pandas.core.frame.DataFrame'>\n",
      "RangeIndex: 1538 entries, 0 to 1537\n",
      "Data columns (total 9 columns):\n",
      " #   Column           Non-Null Count  Dtype  \n",
      "---  ------           --------------  -----  \n",
      " 0   ID               1537 non-null   float64\n",
      " 1   model            1538 non-null   object \n",
      " 2   engine_power     1538 non-null   int64  \n",
      " 3   age_in_days      1538 non-null   int64  \n",
      " 4   km               1538 non-null   int64  \n",
      " 5   previous_owners  1538 non-null   int64  \n",
      " 6   lat              1538 non-null   float64\n",
      " 7   lon              1538 non-null   float64\n",
      " 8   price            1538 non-null   int64  \n",
      "dtypes: float64(3), int64(5), object(1)\n",
      "memory usage: 108.3+ KB\n"
     ]
    }
   ],
   "source": [
    "df.info()"
   ]
  },
  {
   "cell_type": "code",
   "execution_count": 4,
   "id": "e20732fd",
   "metadata": {},
   "outputs": [
    {
     "data": {
      "text/plain": [
       "array(['lounge', 'pop', 'sport'], dtype=object)"
      ]
     },
     "execution_count": 4,
     "metadata": {},
     "output_type": "execute_result"
    }
   ],
   "source": [
    "df.model.unique()"
   ]
  },
  {
   "cell_type": "code",
   "execution_count": 5,
   "id": "28a75e4b",
   "metadata": {},
   "outputs": [
    {
     "data": {
      "text/plain": [
       "(1538, 9)"
      ]
     },
     "execution_count": 5,
     "metadata": {},
     "output_type": "execute_result"
    }
   ],
   "source": [
    "df.shape"
   ]
  },
  {
   "cell_type": "code",
   "execution_count": 6,
   "id": "deb58547",
   "metadata": {},
   "outputs": [
    {
     "data": {
      "text/plain": [
       "array([1, 2, 3, 4], dtype=int64)"
      ]
     },
     "execution_count": 6,
     "metadata": {},
     "output_type": "execute_result"
    }
   ],
   "source": [
    "df.previous_owners.unique()"
   ]
  },
  {
   "cell_type": "code",
   "execution_count": 7,
   "id": "54e39d46",
   "metadata": {},
   "outputs": [
    {
     "data": {
      "text/html": [
       "<div>\n",
       "<style scoped>\n",
       "    .dataframe tbody tr th:only-of-type {\n",
       "        vertical-align: middle;\n",
       "    }\n",
       "\n",
       "    .dataframe tbody tr th {\n",
       "        vertical-align: top;\n",
       "    }\n",
       "\n",
       "    .dataframe thead th {\n",
       "        text-align: right;\n",
       "    }\n",
       "</style>\n",
       "<table border=\"1\" class=\"dataframe\">\n",
       "  <thead>\n",
       "    <tr style=\"text-align: right;\">\n",
       "      <th></th>\n",
       "      <th>ID</th>\n",
       "      <th>engine_power</th>\n",
       "      <th>age_in_days</th>\n",
       "      <th>km</th>\n",
       "      <th>previous_owners</th>\n",
       "      <th>lat</th>\n",
       "      <th>lon</th>\n",
       "      <th>price</th>\n",
       "    </tr>\n",
       "    <tr>\n",
       "      <th>model</th>\n",
       "      <th></th>\n",
       "      <th></th>\n",
       "      <th></th>\n",
       "      <th></th>\n",
       "      <th></th>\n",
       "      <th></th>\n",
       "      <th></th>\n",
       "      <th></th>\n",
       "    </tr>\n",
       "  </thead>\n",
       "  <tbody>\n",
       "    <tr>\n",
       "      <th>lounge</th>\n",
       "      <td>1093</td>\n",
       "      <td>1094</td>\n",
       "      <td>1094</td>\n",
       "      <td>1094</td>\n",
       "      <td>1094</td>\n",
       "      <td>1094</td>\n",
       "      <td>1094</td>\n",
       "      <td>1094</td>\n",
       "    </tr>\n",
       "    <tr>\n",
       "      <th>pop</th>\n",
       "      <td>358</td>\n",
       "      <td>358</td>\n",
       "      <td>358</td>\n",
       "      <td>358</td>\n",
       "      <td>358</td>\n",
       "      <td>358</td>\n",
       "      <td>358</td>\n",
       "      <td>358</td>\n",
       "    </tr>\n",
       "    <tr>\n",
       "      <th>sport</th>\n",
       "      <td>86</td>\n",
       "      <td>86</td>\n",
       "      <td>86</td>\n",
       "      <td>86</td>\n",
       "      <td>86</td>\n",
       "      <td>86</td>\n",
       "      <td>86</td>\n",
       "      <td>86</td>\n",
       "    </tr>\n",
       "  </tbody>\n",
       "</table>\n",
       "</div>"
      ],
      "text/plain": [
       "          ID  engine_power  age_in_days    km  previous_owners   lat   lon  \\\n",
       "model                                                                        \n",
       "lounge  1093          1094         1094  1094             1094  1094  1094   \n",
       "pop      358           358          358   358              358   358   358   \n",
       "sport     86            86           86    86               86    86    86   \n",
       "\n",
       "        price  \n",
       "model          \n",
       "lounge   1094  \n",
       "pop       358  \n",
       "sport      86  "
      ]
     },
     "execution_count": 7,
     "metadata": {},
     "output_type": "execute_result"
    }
   ],
   "source": [
    "df.groupby(['model']).count()"
   ]
  },
  {
   "cell_type": "code",
   "execution_count": 8,
   "id": "bfc5a206",
   "metadata": {},
   "outputs": [],
   "source": [
    "df.drop(\"lat\", axis=1,inplace=True)"
   ]
  },
  {
   "cell_type": "code",
   "execution_count": 9,
   "id": "8b58f643",
   "metadata": {},
   "outputs": [],
   "source": [
    "df.drop(\"lon\", axis=1, inplace=True)"
   ]
  },
  {
   "cell_type": "code",
   "execution_count": 10,
   "id": "10d19a81",
   "metadata": {},
   "outputs": [],
   "source": [
    "df.drop(\"ID\", axis=1, inplace=True)"
   ]
  },
  {
   "cell_type": "code",
   "execution_count": 11,
   "id": "8285527f",
   "metadata": {},
   "outputs": [
    {
     "data": {
      "text/html": [
       "<div>\n",
       "<style scoped>\n",
       "    .dataframe tbody tr th:only-of-type {\n",
       "        vertical-align: middle;\n",
       "    }\n",
       "\n",
       "    .dataframe tbody tr th {\n",
       "        vertical-align: top;\n",
       "    }\n",
       "\n",
       "    .dataframe thead th {\n",
       "        text-align: right;\n",
       "    }\n",
       "</style>\n",
       "<table border=\"1\" class=\"dataframe\">\n",
       "  <thead>\n",
       "    <tr style=\"text-align: right;\">\n",
       "      <th></th>\n",
       "      <th>model</th>\n",
       "      <th>engine_power</th>\n",
       "      <th>age_in_days</th>\n",
       "      <th>km</th>\n",
       "      <th>previous_owners</th>\n",
       "      <th>price</th>\n",
       "    </tr>\n",
       "  </thead>\n",
       "  <tbody>\n",
       "    <tr>\n",
       "      <th>0</th>\n",
       "      <td>lounge</td>\n",
       "      <td>51</td>\n",
       "      <td>882</td>\n",
       "      <td>25000</td>\n",
       "      <td>1</td>\n",
       "      <td>8900</td>\n",
       "    </tr>\n",
       "    <tr>\n",
       "      <th>1</th>\n",
       "      <td>pop</td>\n",
       "      <td>51</td>\n",
       "      <td>1186</td>\n",
       "      <td>32500</td>\n",
       "      <td>1</td>\n",
       "      <td>8800</td>\n",
       "    </tr>\n",
       "    <tr>\n",
       "      <th>2</th>\n",
       "      <td>sport</td>\n",
       "      <td>74</td>\n",
       "      <td>4658</td>\n",
       "      <td>142228</td>\n",
       "      <td>1</td>\n",
       "      <td>4200</td>\n",
       "    </tr>\n",
       "    <tr>\n",
       "      <th>3</th>\n",
       "      <td>lounge</td>\n",
       "      <td>51</td>\n",
       "      <td>2739</td>\n",
       "      <td>160000</td>\n",
       "      <td>1</td>\n",
       "      <td>6000</td>\n",
       "    </tr>\n",
       "    <tr>\n",
       "      <th>4</th>\n",
       "      <td>pop</td>\n",
       "      <td>73</td>\n",
       "      <td>3074</td>\n",
       "      <td>106880</td>\n",
       "      <td>1</td>\n",
       "      <td>5700</td>\n",
       "    </tr>\n",
       "    <tr>\n",
       "      <th>...</th>\n",
       "      <td>...</td>\n",
       "      <td>...</td>\n",
       "      <td>...</td>\n",
       "      <td>...</td>\n",
       "      <td>...</td>\n",
       "      <td>...</td>\n",
       "    </tr>\n",
       "    <tr>\n",
       "      <th>1533</th>\n",
       "      <td>sport</td>\n",
       "      <td>51</td>\n",
       "      <td>3712</td>\n",
       "      <td>115280</td>\n",
       "      <td>1</td>\n",
       "      <td>5200</td>\n",
       "    </tr>\n",
       "    <tr>\n",
       "      <th>1534</th>\n",
       "      <td>lounge</td>\n",
       "      <td>74</td>\n",
       "      <td>3835</td>\n",
       "      <td>112000</td>\n",
       "      <td>1</td>\n",
       "      <td>4600</td>\n",
       "    </tr>\n",
       "    <tr>\n",
       "      <th>1535</th>\n",
       "      <td>pop</td>\n",
       "      <td>51</td>\n",
       "      <td>2223</td>\n",
       "      <td>60457</td>\n",
       "      <td>1</td>\n",
       "      <td>7500</td>\n",
       "    </tr>\n",
       "    <tr>\n",
       "      <th>1536</th>\n",
       "      <td>lounge</td>\n",
       "      <td>51</td>\n",
       "      <td>2557</td>\n",
       "      <td>80750</td>\n",
       "      <td>1</td>\n",
       "      <td>5990</td>\n",
       "    </tr>\n",
       "    <tr>\n",
       "      <th>1537</th>\n",
       "      <td>pop</td>\n",
       "      <td>51</td>\n",
       "      <td>1766</td>\n",
       "      <td>54276</td>\n",
       "      <td>1</td>\n",
       "      <td>7900</td>\n",
       "    </tr>\n",
       "  </tbody>\n",
       "</table>\n",
       "<p>1538 rows × 6 columns</p>\n",
       "</div>"
      ],
      "text/plain": [
       "       model  engine_power  age_in_days      km  previous_owners  price\n",
       "0     lounge            51          882   25000                1   8900\n",
       "1        pop            51         1186   32500                1   8800\n",
       "2      sport            74         4658  142228                1   4200\n",
       "3     lounge            51         2739  160000                1   6000\n",
       "4        pop            73         3074  106880                1   5700\n",
       "...      ...           ...          ...     ...              ...    ...\n",
       "1533   sport            51         3712  115280                1   5200\n",
       "1534  lounge            74         3835  112000                1   4600\n",
       "1535     pop            51         2223   60457                1   7500\n",
       "1536  lounge            51         2557   80750                1   5990\n",
       "1537     pop            51         1766   54276                1   7900\n",
       "\n",
       "[1538 rows x 6 columns]"
      ]
     },
     "execution_count": 11,
     "metadata": {},
     "output_type": "execute_result"
    }
   ],
   "source": [
    "df"
   ]
  },
  {
   "cell_type": "code",
   "execution_count": 12,
   "id": "4dd3bdbd",
   "metadata": {},
   "outputs": [],
   "source": [
    "from sklearn.linear_model import LinearRegression\n",
    "from sklearn.model_selection import train_test_split"
   ]
  },
  {
   "cell_type": "code",
   "execution_count": 13,
   "id": "6acfce29",
   "metadata": {},
   "outputs": [
    {
     "data": {
      "text/html": [
       "<div>\n",
       "<style scoped>\n",
       "    .dataframe tbody tr th:only-of-type {\n",
       "        vertical-align: middle;\n",
       "    }\n",
       "\n",
       "    .dataframe tbody tr th {\n",
       "        vertical-align: top;\n",
       "    }\n",
       "\n",
       "    .dataframe thead th {\n",
       "        text-align: right;\n",
       "    }\n",
       "</style>\n",
       "<table border=\"1\" class=\"dataframe\">\n",
       "  <thead>\n",
       "    <tr style=\"text-align: right;\">\n",
       "      <th></th>\n",
       "      <th>lounge</th>\n",
       "      <th>pop</th>\n",
       "      <th>sport</th>\n",
       "    </tr>\n",
       "  </thead>\n",
       "  <tbody>\n",
       "    <tr>\n",
       "      <th>0</th>\n",
       "      <td>1</td>\n",
       "      <td>0</td>\n",
       "      <td>0</td>\n",
       "    </tr>\n",
       "    <tr>\n",
       "      <th>1</th>\n",
       "      <td>0</td>\n",
       "      <td>1</td>\n",
       "      <td>0</td>\n",
       "    </tr>\n",
       "    <tr>\n",
       "      <th>2</th>\n",
       "      <td>0</td>\n",
       "      <td>0</td>\n",
       "      <td>1</td>\n",
       "    </tr>\n",
       "    <tr>\n",
       "      <th>3</th>\n",
       "      <td>1</td>\n",
       "      <td>0</td>\n",
       "      <td>0</td>\n",
       "    </tr>\n",
       "    <tr>\n",
       "      <th>4</th>\n",
       "      <td>0</td>\n",
       "      <td>1</td>\n",
       "      <td>0</td>\n",
       "    </tr>\n",
       "    <tr>\n",
       "      <th>...</th>\n",
       "      <td>...</td>\n",
       "      <td>...</td>\n",
       "      <td>...</td>\n",
       "    </tr>\n",
       "    <tr>\n",
       "      <th>1533</th>\n",
       "      <td>0</td>\n",
       "      <td>0</td>\n",
       "      <td>1</td>\n",
       "    </tr>\n",
       "    <tr>\n",
       "      <th>1534</th>\n",
       "      <td>1</td>\n",
       "      <td>0</td>\n",
       "      <td>0</td>\n",
       "    </tr>\n",
       "    <tr>\n",
       "      <th>1535</th>\n",
       "      <td>0</td>\n",
       "      <td>1</td>\n",
       "      <td>0</td>\n",
       "    </tr>\n",
       "    <tr>\n",
       "      <th>1536</th>\n",
       "      <td>1</td>\n",
       "      <td>0</td>\n",
       "      <td>0</td>\n",
       "    </tr>\n",
       "    <tr>\n",
       "      <th>1537</th>\n",
       "      <td>0</td>\n",
       "      <td>1</td>\n",
       "      <td>0</td>\n",
       "    </tr>\n",
       "  </tbody>\n",
       "</table>\n",
       "<p>1538 rows × 3 columns</p>\n",
       "</div>"
      ],
      "text/plain": [
       "      lounge  pop  sport\n",
       "0          1    0      0\n",
       "1          0    1      0\n",
       "2          0    0      1\n",
       "3          1    0      0\n",
       "4          0    1      0\n",
       "...      ...  ...    ...\n",
       "1533       0    0      1\n",
       "1534       1    0      0\n",
       "1535       0    1      0\n",
       "1536       1    0      0\n",
       "1537       0    1      0\n",
       "\n",
       "[1538 rows x 3 columns]"
      ]
     },
     "execution_count": 13,
     "metadata": {},
     "output_type": "execute_result"
    }
   ],
   "source": [
    "dummies = pd.get_dummies(df.model).astype(int)\n",
    "dummies"
   ]
  },
  {
   "cell_type": "code",
   "execution_count": 14,
   "id": "4692eec1",
   "metadata": {},
   "outputs": [
    {
     "data": {
      "text/html": [
       "<div>\n",
       "<style scoped>\n",
       "    .dataframe tbody tr th:only-of-type {\n",
       "        vertical-align: middle;\n",
       "    }\n",
       "\n",
       "    .dataframe tbody tr th {\n",
       "        vertical-align: top;\n",
       "    }\n",
       "\n",
       "    .dataframe thead th {\n",
       "        text-align: right;\n",
       "    }\n",
       "</style>\n",
       "<table border=\"1\" class=\"dataframe\">\n",
       "  <thead>\n",
       "    <tr style=\"text-align: right;\">\n",
       "      <th></th>\n",
       "      <th>model</th>\n",
       "      <th>engine_power</th>\n",
       "      <th>age_in_days</th>\n",
       "      <th>km</th>\n",
       "      <th>previous_owners</th>\n",
       "      <th>price</th>\n",
       "      <th>lounge</th>\n",
       "      <th>pop</th>\n",
       "    </tr>\n",
       "  </thead>\n",
       "  <tbody>\n",
       "    <tr>\n",
       "      <th>0</th>\n",
       "      <td>lounge</td>\n",
       "      <td>51</td>\n",
       "      <td>882</td>\n",
       "      <td>25000</td>\n",
       "      <td>1</td>\n",
       "      <td>8900</td>\n",
       "      <td>1</td>\n",
       "      <td>0</td>\n",
       "    </tr>\n",
       "    <tr>\n",
       "      <th>1</th>\n",
       "      <td>pop</td>\n",
       "      <td>51</td>\n",
       "      <td>1186</td>\n",
       "      <td>32500</td>\n",
       "      <td>1</td>\n",
       "      <td>8800</td>\n",
       "      <td>0</td>\n",
       "      <td>1</td>\n",
       "    </tr>\n",
       "    <tr>\n",
       "      <th>2</th>\n",
       "      <td>sport</td>\n",
       "      <td>74</td>\n",
       "      <td>4658</td>\n",
       "      <td>142228</td>\n",
       "      <td>1</td>\n",
       "      <td>4200</td>\n",
       "      <td>0</td>\n",
       "      <td>0</td>\n",
       "    </tr>\n",
       "    <tr>\n",
       "      <th>3</th>\n",
       "      <td>lounge</td>\n",
       "      <td>51</td>\n",
       "      <td>2739</td>\n",
       "      <td>160000</td>\n",
       "      <td>1</td>\n",
       "      <td>6000</td>\n",
       "      <td>1</td>\n",
       "      <td>0</td>\n",
       "    </tr>\n",
       "    <tr>\n",
       "      <th>4</th>\n",
       "      <td>pop</td>\n",
       "      <td>73</td>\n",
       "      <td>3074</td>\n",
       "      <td>106880</td>\n",
       "      <td>1</td>\n",
       "      <td>5700</td>\n",
       "      <td>0</td>\n",
       "      <td>1</td>\n",
       "    </tr>\n",
       "  </tbody>\n",
       "</table>\n",
       "</div>"
      ],
      "text/plain": [
       "    model  engine_power  age_in_days      km  previous_owners  price  lounge  \\\n",
       "0  lounge            51          882   25000                1   8900       1   \n",
       "1     pop            51         1186   32500                1   8800       0   \n",
       "2   sport            74         4658  142228                1   4200       0   \n",
       "3  lounge            51         2739  160000                1   6000       1   \n",
       "4     pop            73         3074  106880                1   5700       0   \n",
       "\n",
       "   pop  \n",
       "0    0  \n",
       "1    1  \n",
       "2    0  \n",
       "3    0  \n",
       "4    1  "
      ]
     },
     "execution_count": 14,
     "metadata": {},
     "output_type": "execute_result"
    }
   ],
   "source": [
    "df1 = pd.concat([df, dummies.drop(\"sport\", axis='columns')], axis=\"columns\")\n",
    "df1.head()"
   ]
  },
  {
   "cell_type": "code",
   "execution_count": 15,
   "id": "8aeb70a2",
   "metadata": {},
   "outputs": [],
   "source": [
    "df2 = df1.drop(\"model\", axis=\"columns\")"
   ]
  },
  {
   "cell_type": "code",
   "execution_count": 16,
   "id": "17f6861f",
   "metadata": {},
   "outputs": [
    {
     "data": {
      "text/html": [
       "<div>\n",
       "<style scoped>\n",
       "    .dataframe tbody tr th:only-of-type {\n",
       "        vertical-align: middle;\n",
       "    }\n",
       "\n",
       "    .dataframe tbody tr th {\n",
       "        vertical-align: top;\n",
       "    }\n",
       "\n",
       "    .dataframe thead th {\n",
       "        text-align: right;\n",
       "    }\n",
       "</style>\n",
       "<table border=\"1\" class=\"dataframe\">\n",
       "  <thead>\n",
       "    <tr style=\"text-align: right;\">\n",
       "      <th></th>\n",
       "      <th>engine_power</th>\n",
       "      <th>age_in_days</th>\n",
       "      <th>km</th>\n",
       "      <th>previous_owners</th>\n",
       "      <th>price</th>\n",
       "      <th>lounge</th>\n",
       "      <th>pop</th>\n",
       "    </tr>\n",
       "  </thead>\n",
       "  <tbody>\n",
       "    <tr>\n",
       "      <th>0</th>\n",
       "      <td>51</td>\n",
       "      <td>882</td>\n",
       "      <td>25000</td>\n",
       "      <td>1</td>\n",
       "      <td>8900</td>\n",
       "      <td>1</td>\n",
       "      <td>0</td>\n",
       "    </tr>\n",
       "    <tr>\n",
       "      <th>1</th>\n",
       "      <td>51</td>\n",
       "      <td>1186</td>\n",
       "      <td>32500</td>\n",
       "      <td>1</td>\n",
       "      <td>8800</td>\n",
       "      <td>0</td>\n",
       "      <td>1</td>\n",
       "    </tr>\n",
       "    <tr>\n",
       "      <th>2</th>\n",
       "      <td>74</td>\n",
       "      <td>4658</td>\n",
       "      <td>142228</td>\n",
       "      <td>1</td>\n",
       "      <td>4200</td>\n",
       "      <td>0</td>\n",
       "      <td>0</td>\n",
       "    </tr>\n",
       "    <tr>\n",
       "      <th>3</th>\n",
       "      <td>51</td>\n",
       "      <td>2739</td>\n",
       "      <td>160000</td>\n",
       "      <td>1</td>\n",
       "      <td>6000</td>\n",
       "      <td>1</td>\n",
       "      <td>0</td>\n",
       "    </tr>\n",
       "    <tr>\n",
       "      <th>4</th>\n",
       "      <td>73</td>\n",
       "      <td>3074</td>\n",
       "      <td>106880</td>\n",
       "      <td>1</td>\n",
       "      <td>5700</td>\n",
       "      <td>0</td>\n",
       "      <td>1</td>\n",
       "    </tr>\n",
       "    <tr>\n",
       "      <th>...</th>\n",
       "      <td>...</td>\n",
       "      <td>...</td>\n",
       "      <td>...</td>\n",
       "      <td>...</td>\n",
       "      <td>...</td>\n",
       "      <td>...</td>\n",
       "      <td>...</td>\n",
       "    </tr>\n",
       "    <tr>\n",
       "      <th>1533</th>\n",
       "      <td>51</td>\n",
       "      <td>3712</td>\n",
       "      <td>115280</td>\n",
       "      <td>1</td>\n",
       "      <td>5200</td>\n",
       "      <td>0</td>\n",
       "      <td>0</td>\n",
       "    </tr>\n",
       "    <tr>\n",
       "      <th>1534</th>\n",
       "      <td>74</td>\n",
       "      <td>3835</td>\n",
       "      <td>112000</td>\n",
       "      <td>1</td>\n",
       "      <td>4600</td>\n",
       "      <td>1</td>\n",
       "      <td>0</td>\n",
       "    </tr>\n",
       "    <tr>\n",
       "      <th>1535</th>\n",
       "      <td>51</td>\n",
       "      <td>2223</td>\n",
       "      <td>60457</td>\n",
       "      <td>1</td>\n",
       "      <td>7500</td>\n",
       "      <td>0</td>\n",
       "      <td>1</td>\n",
       "    </tr>\n",
       "    <tr>\n",
       "      <th>1536</th>\n",
       "      <td>51</td>\n",
       "      <td>2557</td>\n",
       "      <td>80750</td>\n",
       "      <td>1</td>\n",
       "      <td>5990</td>\n",
       "      <td>1</td>\n",
       "      <td>0</td>\n",
       "    </tr>\n",
       "    <tr>\n",
       "      <th>1537</th>\n",
       "      <td>51</td>\n",
       "      <td>1766</td>\n",
       "      <td>54276</td>\n",
       "      <td>1</td>\n",
       "      <td>7900</td>\n",
       "      <td>0</td>\n",
       "      <td>1</td>\n",
       "    </tr>\n",
       "  </tbody>\n",
       "</table>\n",
       "<p>1538 rows × 7 columns</p>\n",
       "</div>"
      ],
      "text/plain": [
       "      engine_power  age_in_days      km  previous_owners  price  lounge  pop\n",
       "0               51          882   25000                1   8900       1    0\n",
       "1               51         1186   32500                1   8800       0    1\n",
       "2               74         4658  142228                1   4200       0    0\n",
       "3               51         2739  160000                1   6000       1    0\n",
       "4               73         3074  106880                1   5700       0    1\n",
       "...            ...          ...     ...              ...    ...     ...  ...\n",
       "1533            51         3712  115280                1   5200       0    0\n",
       "1534            74         3835  112000                1   4600       1    0\n",
       "1535            51         2223   60457                1   7500       0    1\n",
       "1536            51         2557   80750                1   5990       1    0\n",
       "1537            51         1766   54276                1   7900       0    1\n",
       "\n",
       "[1538 rows x 7 columns]"
      ]
     },
     "execution_count": 16,
     "metadata": {},
     "output_type": "execute_result"
    }
   ],
   "source": [
    "df2"
   ]
  },
  {
   "cell_type": "code",
   "execution_count": 88,
   "id": "723f106d",
   "metadata": {},
   "outputs": [
    {
     "data": {
      "text/html": [
       "<div>\n",
       "<style scoped>\n",
       "    .dataframe tbody tr th:only-of-type {\n",
       "        vertical-align: middle;\n",
       "    }\n",
       "\n",
       "    .dataframe tbody tr th {\n",
       "        vertical-align: top;\n",
       "    }\n",
       "\n",
       "    .dataframe thead th {\n",
       "        text-align: right;\n",
       "    }\n",
       "</style>\n",
       "<table border=\"1\" class=\"dataframe\">\n",
       "  <thead>\n",
       "    <tr style=\"text-align: right;\">\n",
       "      <th></th>\n",
       "      <th>engine_power</th>\n",
       "      <th>age_in_days</th>\n",
       "      <th>km</th>\n",
       "      <th>previous_owners</th>\n",
       "      <th>lounge</th>\n",
       "      <th>pop</th>\n",
       "    </tr>\n",
       "  </thead>\n",
       "  <tbody>\n",
       "    <tr>\n",
       "      <th>0</th>\n",
       "      <td>51</td>\n",
       "      <td>882</td>\n",
       "      <td>25000</td>\n",
       "      <td>1</td>\n",
       "      <td>1</td>\n",
       "      <td>0</td>\n",
       "    </tr>\n",
       "    <tr>\n",
       "      <th>1</th>\n",
       "      <td>51</td>\n",
       "      <td>1186</td>\n",
       "      <td>32500</td>\n",
       "      <td>1</td>\n",
       "      <td>0</td>\n",
       "      <td>1</td>\n",
       "    </tr>\n",
       "    <tr>\n",
       "      <th>2</th>\n",
       "      <td>74</td>\n",
       "      <td>4658</td>\n",
       "      <td>142228</td>\n",
       "      <td>1</td>\n",
       "      <td>0</td>\n",
       "      <td>0</td>\n",
       "    </tr>\n",
       "    <tr>\n",
       "      <th>3</th>\n",
       "      <td>51</td>\n",
       "      <td>2739</td>\n",
       "      <td>160000</td>\n",
       "      <td>1</td>\n",
       "      <td>1</td>\n",
       "      <td>0</td>\n",
       "    </tr>\n",
       "    <tr>\n",
       "      <th>4</th>\n",
       "      <td>73</td>\n",
       "      <td>3074</td>\n",
       "      <td>106880</td>\n",
       "      <td>1</td>\n",
       "      <td>0</td>\n",
       "      <td>1</td>\n",
       "    </tr>\n",
       "  </tbody>\n",
       "</table>\n",
       "</div>"
      ],
      "text/plain": [
       "   engine_power  age_in_days      km  previous_owners  lounge  pop\n",
       "0            51          882   25000                1       1    0\n",
       "1            51         1186   32500                1       0    1\n",
       "2            74         4658  142228                1       0    0\n",
       "3            51         2739  160000                1       1    0\n",
       "4            73         3074  106880                1       0    1"
      ]
     },
     "execution_count": 88,
     "metadata": {},
     "output_type": "execute_result"
    }
   ],
   "source": [
    "X = df2.drop(\"price\", axis=\"columns\")\n",
    "X.head()"
   ]
  },
  {
   "cell_type": "code",
   "execution_count": 89,
   "id": "6b26f9fb",
   "metadata": {},
   "outputs": [
    {
     "data": {
      "text/plain": [
       "0    8900\n",
       "1    8800\n",
       "2    4200\n",
       "3    6000\n",
       "4    5700\n",
       "Name: price, dtype: int64"
      ]
     },
     "execution_count": 89,
     "metadata": {},
     "output_type": "execute_result"
    }
   ],
   "source": [
    "y = df2.price\n",
    "y.head()"
   ]
  },
  {
   "cell_type": "code",
   "execution_count": 90,
   "id": "9e976724",
   "metadata": {},
   "outputs": [],
   "source": [
    "X_train, X_test, y_train, y_test = train_test_split(X,y, test_size=0.20, random_state=100)"
   ]
  },
  {
   "cell_type": "code",
   "execution_count": 91,
   "id": "58ea95c6",
   "metadata": {},
   "outputs": [
    {
     "data": {
      "text/plain": [
       "0.8691719747595805"
      ]
     },
     "execution_count": 91,
     "metadata": {},
     "output_type": "execute_result"
    }
   ],
   "source": [
    "lr_clf = LinearRegression()\n",
    "lr_clf.fit(X_train, y_train)\n",
    "lr_clf.score(X_test,y_test)"
   ]
  },
  {
   "cell_type": "code",
   "execution_count": 92,
   "id": "8367860a",
   "metadata": {},
   "outputs": [],
   "source": [
    "ypred = lr_clf.predict(X_test)"
   ]
  },
  {
   "cell_type": "code",
   "execution_count": 93,
   "id": "06ea1ba6",
   "metadata": {
    "scrolled": true
   },
   "outputs": [
    {
     "data": {
      "text/plain": [
       "(308,)"
      ]
     },
     "execution_count": 93,
     "metadata": {},
     "output_type": "execute_result"
    }
   ],
   "source": [
    "ypred.shape"
   ]
  },
  {
   "cell_type": "code",
   "execution_count": 94,
   "id": "69ed8c09",
   "metadata": {},
   "outputs": [
    {
     "data": {
      "text/plain": [
       "(308,)"
      ]
     },
     "execution_count": 94,
     "metadata": {},
     "output_type": "execute_result"
    }
   ],
   "source": [
    "y_test.shape"
   ]
  },
  {
   "cell_type": "code",
   "execution_count": 95,
   "id": "ae07172c",
   "metadata": {},
   "outputs": [
    {
     "data": {
      "text/plain": [
       "0.8691719747595805"
      ]
     },
     "execution_count": 95,
     "metadata": {},
     "output_type": "execute_result"
    }
   ],
   "source": [
    "from sklearn.metrics import r2_score\n",
    "r2_score(y_test,ypred)"
   ]
  },
  {
   "cell_type": "code",
   "execution_count": 96,
   "id": "74efb63a",
   "metadata": {},
   "outputs": [
    {
     "data": {
      "text/plain": [
       "0.07471202375776632"
      ]
     },
     "execution_count": 96,
     "metadata": {},
     "output_type": "execute_result"
    }
   ],
   "source": [
    "from sklearn.metrics import mean_absolute_percentage_error as mape\n",
    "mape_value = mape(y_test, ypred)\n",
    "mape_value"
   ]
  },
  {
   "cell_type": "code",
   "execution_count": 97,
   "id": "39c70578",
   "metadata": {},
   "outputs": [
    {
     "name": "stdout",
     "output_type": "stream",
     "text": [
      "711.3404722042737\n"
     ]
    }
   ],
   "source": [
    "from sklearn.metrics import mean_squared_error\n",
    "t=mean_squared_error(y_test, ypred)\n",
    "print(t**.5)"
   ]
  },
  {
   "cell_type": "code",
   "execution_count": 133,
   "id": "b1e300b4",
   "metadata": {},
   "outputs": [
    {
     "data": {
      "text/html": [
       "<div>\n",
       "<style scoped>\n",
       "    .dataframe tbody tr th:only-of-type {\n",
       "        vertical-align: middle;\n",
       "    }\n",
       "\n",
       "    .dataframe tbody tr th {\n",
       "        vertical-align: top;\n",
       "    }\n",
       "\n",
       "    .dataframe thead th {\n",
       "        text-align: right;\n",
       "    }\n",
       "</style>\n",
       "<table border=\"1\" class=\"dataframe\">\n",
       "  <thead>\n",
       "    <tr style=\"text-align: right;\">\n",
       "      <th></th>\n",
       "      <th>index</th>\n",
       "      <th>Price</th>\n",
       "      <th>Predicted</th>\n",
       "      <th>id</th>\n",
       "    </tr>\n",
       "  </thead>\n",
       "  <tbody>\n",
       "    <tr>\n",
       "      <th>0</th>\n",
       "      <td>101</td>\n",
       "      <td>10000</td>\n",
       "      <td>10078.804192</td>\n",
       "      <td>0</td>\n",
       "    </tr>\n",
       "    <tr>\n",
       "      <th>1</th>\n",
       "      <td>624</td>\n",
       "      <td>5800</td>\n",
       "      <td>5248.606861</td>\n",
       "      <td>1</td>\n",
       "    </tr>\n",
       "    <tr>\n",
       "      <th>2</th>\n",
       "      <td>652</td>\n",
       "      <td>10850</td>\n",
       "      <td>10338.031213</td>\n",
       "      <td>2</td>\n",
       "    </tr>\n",
       "    <tr>\n",
       "      <th>3</th>\n",
       "      <td>1010</td>\n",
       "      <td>4600</td>\n",
       "      <td>5650.565001</td>\n",
       "      <td>3</td>\n",
       "    </tr>\n",
       "    <tr>\n",
       "      <th>4</th>\n",
       "      <td>728</td>\n",
       "      <td>7000</td>\n",
       "      <td>6358.208556</td>\n",
       "      <td>4</td>\n",
       "    </tr>\n",
       "  </tbody>\n",
       "</table>\n",
       "</div>"
      ],
      "text/plain": [
       "   index  Price     Predicted  id\n",
       "0    101  10000  10078.804192   0\n",
       "1    624   5800   5248.606861   1\n",
       "2    652  10850  10338.031213   2\n",
       "3   1010   4600   5650.565001   3\n",
       "4    728   7000   6358.208556   4"
      ]
     },
     "execution_count": 133,
     "metadata": {},
     "output_type": "execute_result"
    }
   ],
   "source": [
    "results=pd.DataFrame(columns=['Price','Predicted'])\n",
    "results['Price']=y_test\n",
    "results['Predicted']=ypred\n",
    "results=results.reset_index()\n",
    "results['id']=results.index\n",
    "results.head()"
   ]
  },
  {
   "cell_type": "code",
   "execution_count": 137,
   "id": "e1a89497",
   "metadata": {},
   "outputs": [
    {
     "name": "stderr",
     "output_type": "stream",
     "text": [
      "C:\\Users\\rohit\\anaconda3\\Lib\\site-packages\\seaborn\\_oldcore.py:1119: FutureWarning: use_inf_as_na option is deprecated and will be removed in a future version. Convert inf values to NaN before operating instead.\n",
      "  with pd.option_context('mode.use_inf_as_na', True):\n",
      "C:\\Users\\rohit\\anaconda3\\Lib\\site-packages\\seaborn\\_oldcore.py:1119: FutureWarning: use_inf_as_na option is deprecated and will be removed in a future version. Convert inf values to NaN before operating instead.\n",
      "  with pd.option_context('mode.use_inf_as_na', True):\n",
      "C:\\Users\\rohit\\anaconda3\\Lib\\site-packages\\seaborn\\_oldcore.py:1119: FutureWarning: use_inf_as_na option is deprecated and will be removed in a future version. Convert inf values to NaN before operating instead.\n",
      "  with pd.option_context('mode.use_inf_as_na', True):\n",
      "C:\\Users\\rohit\\anaconda3\\Lib\\site-packages\\seaborn\\_oldcore.py:1119: FutureWarning: use_inf_as_na option is deprecated and will be removed in a future version. Convert inf values to NaN before operating instead.\n",
      "  with pd.option_context('mode.use_inf_as_na', True):\n",
      "No artists with labels found to put in legend.  Note that artists whose label start with an underscore are ignored when legend() is called with no argument.\n"
     ]
    },
    {
     "data": {
      "text/plain": [
       "<matplotlib.legend.Legend at 0x2a7a6727fd0>"
      ]
     },
     "execution_count": 137,
     "metadata": {},
     "output_type": "execute_result"
    },
    {
     "data": {
      "image/png": "[encoded data removed]",
      "text/plain": [
       "<Figure size 640x480 with 1 Axes>"
      ]
     },
     "metadata": {},
     "output_type": "display_data"
    }
   ],
   "source": [
    "import seaborn as sns\n",
    "import matplotlib.pyplot as plt\n",
    "sns.lineplot(x='id',y='Price', data=results.tail(50))\n",
    "sns.lineplot(x='id',y='Predicted', data=results.tail(50))\n",
    "plt.plot()\n",
    "plt.legend()"
   ]
  },
  {
   "cell_type": "code",
   "execution_count": null,
   "id": "164f270e",
   "metadata": {},
   "outputs": [],
   "source": []
  }
 ],
 "metadata": {
  "kernelspec": {
   "display_name": "Python 3 (ipykernel)",
   "language": "python",
   "name": "python3"
  },
  "language_info": {
   "codemirror_mode": {
    "name": "ipython",
    "version": 3
   },
   "file_extension": ".py",
   "mimetype": "text/x-python",
   "name": "python",
   "nbconvert_exporter": "python",
   "pygments_lexer": "ipython3",
   "version": "3.11.7"
  }
 },
 "nbformat": 4,
 "nbformat_minor": 5
}
